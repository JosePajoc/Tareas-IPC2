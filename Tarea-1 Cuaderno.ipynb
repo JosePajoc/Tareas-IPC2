{
  "nbformat": 4,
  "nbformat_minor": 0,
  "metadata": {
    "colab": {
      "name": "1 Lista enlazada.ipynb",
      "provenance": [],
      "collapsed_sections": [],
      "authorship_tag": "ABX9TyNBgBO05MMrk3U28vUD0/Bi",
      "include_colab_link": true
    },
    "kernelspec": {
      "name": "python3",
      "display_name": "Python 3"
    },
    "language_info": {
      "name": "python"
    }
  },
  "cells": [
    {
      "cell_type": "markdown",
      "metadata": {
        "id": "view-in-github",
        "colab_type": "text"
      },
      "source": [
        "<a href=\"https://colab.research.google.com/github/JosePajoc/Tareas-IPC2/blob/main/Tarea-1%20Cuaderno.ipynb\" target=\"_parent\"><img src=\"https://colab.research.google.com/assets/colab-badge.svg\" alt=\"Open In Colab\"/></a>"
      ]
    },
    {
      "cell_type": "markdown",
      "metadata": {
        "id": "1RtUZQSdtgTv"
      },
      "source": [
        "##Listas enlazadas\n",
        "**Definición de la clase Estudiante**"
      ]
    },
    {
      "cell_type": "code",
      "metadata": {
        "id": "Y-Kde_xtsPAN"
      },
      "source": [
        "class estudiante():\n",
        "  def __init__(self, carne, nombre, edad, direccion, telefono, email, carrera, puesto):\n",
        "    self.carne = carne\n",
        "    self.nombre = nombre\n",
        "    self.edad = edad\n",
        "    self.direccion = direccion\n",
        "    self.telefono = telefono\n",
        "    self.email = email\n",
        "    self.carrera = carrera\n",
        "    self.puesto = puesto\n",
        "    #self.siguiente = None\n"
      ],
      "execution_count": 9,
      "outputs": []
    },
    {
      "cell_type": "markdown",
      "metadata": {
        "id": "6JrcUbTkzYJ3"
      },
      "source": [
        "Definir clase Nodo"
      ]
    },
    {
      "cell_type": "code",
      "metadata": {
        "id": "G3zfdM5FzawW"
      },
      "source": [
        "class nodo():\n",
        "  def __init__(self, estudiante = None, siguiente = None):\n",
        "    self.estudiante = estudiante\n",
        "    self.siguiente = siguiente"
      ],
      "execution_count": 10,
      "outputs": []
    },
    {
      "cell_type": "markdown",
      "metadata": {
        "id": "hyvqzfMT2y88"
      },
      "source": [
        "Definición de la clase Lista Enlazada"
      ]
    },
    {
      "cell_type": "code",
      "metadata": {
        "id": "hQlXLjHa27S9"
      },
      "source": [
        "class lista_enlazada():\n",
        "  def __init__(self):\n",
        "    self.inicio = None\n",
        "\n",
        "  def insertar_nodo(self, estudiante):\n",
        "    if self.inicio == None:\n",
        "      self.inicio = nodo(estudiante=estudiante)\n",
        "      return\n",
        "    else:\n",
        "      temporal = self.inicio\n",
        "      while(temporal.siguiente != None):\n",
        "        temporal = temporal.siguiente\n",
        "      temporal.siguiente = nodo(estudiante=estudiante)\n",
        "    \n",
        "  def recorrer(self):\n",
        "    temporal = self.inicio\n",
        "    while (temporal != None):\n",
        "      print(\"carné: \", temporal.estudiante.carne, \" Nombre: \", temporal.estudiante.nombre, \" Correo: \", temporal.estudiante.email)\n",
        "      temporal = temporal.siguiente\n",
        "  \n",
        "  def eliminar(self, carne):\n",
        "    temporal = self.inicio\n",
        "    anterior = None\n",
        "    while (temporal!= None and temporal.estudiante.carne != carne):\n",
        "      anterior = temporal\n",
        "      temporal = temporal.siguiente\n",
        "    if anterior is None:\n",
        "      self.inicio = temporal.siguiente\n",
        "      temporal.siguiente = None\n",
        "    elif temporal:\n",
        "      anterior.siguiente = temporal.siguiente\n",
        "      temporal.siguiente = None\n",
        "    \n",
        "  def buscar(self, carne):\n",
        "    temporal = self.inicio\n",
        "    anterior = None\n",
        "    if self.inicio.estudiante.carne == carne:\n",
        "      print(\"carné: \", self.inicio.estudiante.carne, \" Nombre: \", self.inicio.estudiante.nombre, \" Correo: \", self.inicio.estudiante.email)\n",
        "    else:\n",
        "      while (temporal!= None and temporal.estudiante.carne != carne):\n",
        "        anterior = temporal\n",
        "        temporal = temporal.siguiente\n",
        "      print(\"carné: \", temporal.estudiante.carne, \" Nombre: \", temporal.estudiante.nombre, \" Correo: \", temporal.estudiante.email)\n"
      ],
      "execution_count": 11,
      "outputs": []
    },
    {
      "cell_type": "markdown",
      "metadata": {
        "id": "txpDRZpLsfbM"
      },
      "source": [
        "**Creación de objetos Estudiante**"
      ]
    },
    {
      "cell_type": "code",
      "metadata": {
        "id": "TLGOtbU5smZu"
      },
      "source": [
        "e1 = estudiante(2019001, \"Gerson Ortiz\", 20, \"9 calle 10-20 Z 1\", 12345678, \"gerson@correo.com\", \"Ingeniería en Sistemas\", \"algo1\")\n",
        "e2 = estudiante(2019005, \"Karen Hurtarte\", 20, \"5 calle 10-50 Z 5\", 12345678, \"karen@correo.com\", \"Ingeniería Industrial\", \"algo1\")\n",
        "e3 = estudiante(2019010, \"Luis Paz\", 20, \"10 calle 10-10 Z 10\", 12345678, \"luis@correo.com\", \"Ingeniería en Sistemas\", \"algo1\")\n",
        "e4 = estudiante(201115455, \"José Pajoc\", 20, \"Villa Nueva\", 12345678, \"jose@correo.com\", \"Ingeniería en Sistemas\", \"algo100\")"
      ],
      "execution_count": 12,
      "outputs": []
    },
    {
      "cell_type": "markdown",
      "metadata": {
        "id": "0dMhkDOLuA5b"
      },
      "source": [
        "Inserción"
      ]
    },
    {
      "cell_type": "code",
      "metadata": {
        "id": "NsoLc2yYuCho"
      },
      "source": [
        "lista_e = lista_enlazada()\n",
        "lista_e.insertar_nodo(e1)\n",
        "lista_e.insertar_nodo(e2)\n",
        "lista_e.insertar_nodo(e3)\n",
        "lista_e.insertar_nodo(e4)"
      ],
      "execution_count": 13,
      "outputs": []
    },
    {
      "cell_type": "markdown",
      "metadata": {
        "id": "xE7X0h4XuVUw"
      },
      "source": [
        "Recorrer lista"
      ]
    },
    {
      "cell_type": "code",
      "metadata": {
        "colab": {
          "base_uri": "https://localhost:8080/"
        },
        "id": "fPbGSBX4uW-x",
        "outputId": "02f13e10-c5e9-4f7c-f065-d462354160f6"
      },
      "source": [
        "lista_e.recorrer()"
      ],
      "execution_count": 14,
      "outputs": [
        {
          "output_type": "stream",
          "text": [
            "carné:  2019001  Nombre:  Gerson Ortiz  Correo:  gerson@correo.com\n",
            "carné:  2019005  Nombre:  Karen Hurtarte  Correo:  karen@correo.com\n",
            "carné:  2019010  Nombre:  Luis Paz  Correo:  luis@correo.com\n",
            "carné:  201115455  Nombre:  José Pajoc  Correo:  jose@correo.com\n"
          ],
          "name": "stdout"
        }
      ]
    },
    {
      "cell_type": "markdown",
      "metadata": {
        "id": "R6AV0LvH0Ld5"
      },
      "source": [
        "Eliminar nodo"
      ]
    },
    {
      "cell_type": "code",
      "metadata": {
        "colab": {
          "base_uri": "https://localhost:8080/"
        },
        "id": "9qJ3D05uwmp1",
        "outputId": "0e6cc7b7-c84d-4be8-e2fc-05aae7e1e9f9"
      },
      "source": [
        "lista_e.eliminar(2019005)\n",
        "lista_e.recorrer()"
      ],
      "execution_count": 15,
      "outputs": [
        {
          "output_type": "stream",
          "text": [
            "carné:  2019001  Nombre:  Gerson Ortiz  Correo:  gerson@correo.com\n",
            "carné:  2019010  Nombre:  Luis Paz  Correo:  luis@correo.com\n",
            "carné:  201115455  Nombre:  José Pajoc  Correo:  jose@correo.com\n"
          ],
          "name": "stdout"
        }
      ]
    },
    {
      "cell_type": "markdown",
      "metadata": {
        "id": "urmNcWIB0P0M"
      },
      "source": [
        "Buscar Nodo"
      ]
    },
    {
      "cell_type": "code",
      "metadata": {
        "colab": {
          "base_uri": "https://localhost:8080/"
        },
        "id": "dj_kAhYXz3F2",
        "outputId": "b9027797-10ee-45da-edb6-46bf344d5e34"
      },
      "source": [
        "lista_e.buscar(201115455)"
      ],
      "execution_count": 16,
      "outputs": [
        {
          "output_type": "stream",
          "text": [
            "carné:  201115455  Nombre:  José Pajoc  Correo:  jose@correo.com\n"
          ],
          "name": "stdout"
        }
      ]
    }
  ]
}