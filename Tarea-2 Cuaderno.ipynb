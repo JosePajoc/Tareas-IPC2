{
  "nbformat": 4,
  "nbformat_minor": 0,
  "metadata": {
    "colab": {
      "name": "2. Listas circulares.ipynb",
      "provenance": [],
      "collapsed_sections": [],
      "authorship_tag": "ABX9TyNSbTYjPQFrdJKxpmbHnXrr",
      "include_colab_link": true
    },
    "kernelspec": {
      "name": "python3",
      "display_name": "Python 3"
    },
    "language_info": {
      "name": "python"
    }
  },
  "cells": [
    {
      "cell_type": "markdown",
      "metadata": {
        "id": "view-in-github",
        "colab_type": "text"
      },
      "source": [
        "<a href=\"https://colab.research.google.com/github/JosePajoc/Tareas-IPC2/blob/main/Tarea-2%20Cuaderno.ipynb\" target=\"_parent\"><img src=\"https://colab.research.google.com/assets/colab-badge.svg\" alt=\"Open In Colab\"/></a>"
      ]
    },
    {
      "cell_type": "markdown",
      "metadata": {
        "id": "1RtUZQSdtgTv"
      },
      "source": [
        "##Listas circular\n",
        "**Definición de la clase Estudiante**"
      ]
    },
    {
      "cell_type": "code",
      "metadata": {
        "id": "Y-Kde_xtsPAN"
      },
      "source": [
        "class estudiante():\n",
        "  def __init__(self, carne, nombre, edad, direccion, telefono, email, carrera, puesto):\n",
        "    self.carne = carne\n",
        "    self.nombre = nombre\n",
        "    self.edad = edad\n",
        "    self.direccion = direccion\n",
        "    self.telefono = telefono\n",
        "    self.email = email\n",
        "    self.carrera = carrera\n",
        "    self.puesto = puesto\n",
        "    #self.siguiente = None\n"
      ],
      "execution_count": 1,
      "outputs": []
    },
    {
      "cell_type": "markdown",
      "metadata": {
        "id": "6JrcUbTkzYJ3"
      },
      "source": [
        "Definir clase Nodo"
      ]
    },
    {
      "cell_type": "code",
      "metadata": {
        "id": "G3zfdM5FzawW"
      },
      "source": [
        "class nodo():\n",
        "  def __init__(self, estudiante = None, siguiente = None):\n",
        "    self.estudiante = estudiante\n",
        "    self.siguiente = siguiente"
      ],
      "execution_count": 2,
      "outputs": []
    },
    {
      "cell_type": "markdown",
      "metadata": {
        "id": "Y1J43sDw1zyG"
      },
      "source": [
        "Definición de la clase Lista Circular"
      ]
    },
    {
      "cell_type": "code",
      "metadata": {
        "id": "1Ly9pG8F13xV"
      },
      "source": [
        "class lista_circular():\n",
        "  def __init__(self):\n",
        "    self.primero = None\n",
        "  \n",
        "  def insertar(self, estudiante):\n",
        "    if self.primero == None:\n",
        "      self.primero = nodo(estudiante = estudiante)\n",
        "      self.primero.siguiente = self.primero\n",
        "    else:\n",
        "      actual = nodo(estudiante = estudiante, siguiente = self.primero.siguiente)\n",
        "      self.primero.siguiente = actual\n",
        "  \n",
        "  def recorrer(self):\n",
        "    if self.primero == None:\n",
        "      return\n",
        "    actual = self.primero\n",
        "    print(\"carné: \", actual.estudiante.carne, \" Nombre: \", actual.estudiante.nombre, \" Correo: \", actual.estudiante.email)\n",
        "    while actual.siguiente != self.primero:\n",
        "      actual = actual.siguiente\n",
        "      print(\"carné: \", actual.estudiante.carne, \" Nombre: \", actual.estudiante.nombre, \" Correo: \", actual.estudiante.email)\n",
        "  \n",
        "  def eliminar(self, carne):\n",
        "    actual = self.primero\n",
        "    anterior = None\n",
        "    no_encontrado = False\n",
        "    while actual != None and actual.estudiante.carne != carne:\n",
        "      anterior = actual\n",
        "      actual = actual.siguiente\n",
        "      if actual == self.primero:\n",
        "        no_encontrado = True\n",
        "        break\n",
        "\n",
        "    if not no_encontrado:\n",
        "      if anterior != None:\n",
        "        anterior.siguiente = actual.siguiente\n",
        "      else:\n",
        "        while actual.siguiente != self.primero:\n",
        "          actual = actual.siguiente\n",
        "        actual.siguiente = self.primero.siguiente\n",
        "        self.primero = self.primero.siguiente\n",
        "    else:\n",
        "      print(\"El estudiante\", carne, \" no existe\")\n",
        "  \n",
        "\n",
        "  def buscar(self, carne):\n",
        "    actual = self.primero\n",
        "    encontrado = False  \n",
        "    if self.primero.estudiante.carne == carne:\n",
        "        print('Nombre: ', self.primero.estudiante.nombre, ' Correo: ', self.primero.estudiante.email)\n",
        "        encontrado = True\n",
        "    else:     \n",
        "      while actual != None and actual.estudiante.carne != carne:\n",
        "        actual = actual.siguiente\n",
        "        if actual == self.primero:\n",
        "          encontrado = False\n",
        "          break\n",
        "        else:\n",
        "          encontrado = True\n",
        "      if encontrado:\n",
        "        print('Nombre: ', actual.estudiante.nombre, ' Correo: ', actual.estudiante.email)\n",
        "      else:\n",
        "        print('No existe el carné ingresado...')\n",
        "\n",
        "    "
      ],
      "execution_count": 3,
      "outputs": []
    },
    {
      "cell_type": "markdown",
      "metadata": {
        "id": "8EHHgaBF-GP1"
      },
      "source": [
        "Creación de objetos estudiantes"
      ]
    },
    {
      "cell_type": "code",
      "metadata": {
        "id": "TLGOtbU5smZu"
      },
      "source": [
        "e1 = estudiante(2019001, \"Gerson Ortiz\", 20, \"9 calle 10-20 Z 1\", 12345678, \"gerson@correo.com\", \"Ingeniería en Sistemas\", \"algo1\")\n",
        "e2 = estudiante(2019005, \"Karen Hurtarte\", 20, \"5 calle 10-50 Z 5\", 12345678, \"karen@correo.com\", \"Ingeniería Industrial\", \"algo1\")\n",
        "e3 = estudiante(2019010, \"Luis Paz\", 20, \"10 calle 10-10 Z 10\", 12345678, \"luis@correo.com\", \"Ingeniería en Sistemas\", \"algo1\")\n",
        "e4 = estudiante(201115455, \"José Pajoc\", 20, \"Villa Nueva\", 12345678, \"jose@correo.com\", \"Ingeniería en Sistemas\", \"algo100\")"
      ],
      "execution_count": 4,
      "outputs": []
    },
    {
      "cell_type": "markdown",
      "metadata": {
        "id": "w4c5o_he-XO1"
      },
      "source": [
        "Inserción"
      ]
    },
    {
      "cell_type": "code",
      "metadata": {
        "id": "J6VoZGaa-LJO"
      },
      "source": [
        "lista_c = lista_circular()\n",
        "lista_c.insertar(e1)\n",
        "lista_c.insertar(e2)\n",
        "lista_c.insertar(e3)\n",
        "lista_c.insertar(e4)"
      ],
      "execution_count": 5,
      "outputs": []
    },
    {
      "cell_type": "markdown",
      "metadata": {
        "id": "bI4XHT8e_bLz"
      },
      "source": [
        "Recorrer la lista"
      ]
    },
    {
      "cell_type": "code",
      "metadata": {
        "colab": {
          "base_uri": "https://localhost:8080/"
        },
        "id": "pyNtPC9H-ayI",
        "outputId": "cdbf3abc-4f45-41c8-90df-2a89afcc8253"
      },
      "source": [
        "lista_c.recorrer()"
      ],
      "execution_count": 6,
      "outputs": [
        {
          "output_type": "stream",
          "text": [
            "carné:  2019001  Nombre:  Gerson Ortiz  Correo:  gerson@correo.com\n",
            "carné:  201115455  Nombre:  José Pajoc  Correo:  jose@correo.com\n",
            "carné:  2019010  Nombre:  Luis Paz  Correo:  luis@correo.com\n",
            "carné:  2019005  Nombre:  Karen Hurtarte  Correo:  karen@correo.com\n"
          ],
          "name": "stdout"
        }
      ]
    },
    {
      "cell_type": "markdown",
      "metadata": {
        "id": "gXoHZ2gwrtk8"
      },
      "source": [
        "Eliminar un nodo de la lista"
      ]
    },
    {
      "cell_type": "code",
      "metadata": {
        "colab": {
          "base_uri": "https://localhost:8080/"
        },
        "id": "vrYvzLzCrwK-",
        "outputId": "7d6d9c6d-284a-4b8b-f61b-30ba6c6f76de"
      },
      "source": [
        "lista_c.eliminar(2019005)\n",
        "lista_c.recorrer()"
      ],
      "execution_count": 7,
      "outputs": [
        {
          "output_type": "stream",
          "text": [
            "carné:  2019001  Nombre:  Gerson Ortiz  Correo:  gerson@correo.com\n",
            "carné:  201115455  Nombre:  José Pajoc  Correo:  jose@correo.com\n",
            "carné:  2019010  Nombre:  Luis Paz  Correo:  luis@correo.com\n"
          ],
          "name": "stdout"
        }
      ]
    },
    {
      "cell_type": "markdown",
      "metadata": {
        "id": "M85eeVGlArPN"
      },
      "source": [
        "**Buscar Nodo**"
      ]
    },
    {
      "cell_type": "code",
      "metadata": {
        "colab": {
          "base_uri": "https://localhost:8080/"
        },
        "id": "c81LMPDvAtsu",
        "outputId": "d423c387-22c2-415f-956f-34786f584934"
      },
      "source": [
        "lista_c.buscar(201115455)"
      ],
      "execution_count": 13,
      "outputs": [
        {
          "output_type": "stream",
          "text": [
            "Nombre:  José Pajoc  Correo:  jose@correo.com\n"
          ],
          "name": "stdout"
        }
      ]
    }
  ]
}