{
  "nbformat": 4,
  "nbformat_minor": 0,
  "metadata": {
    "colab": {
      "name": "3 Listas doblemente enlazadas.ipynb",
      "provenance": [],
      "collapsed_sections": [],
      "authorship_tag": "ABX9TyOBb9yCiKda4FMrGIQyX5yr",
      "include_colab_link": true
    },
    "kernelspec": {
      "name": "python3",
      "display_name": "Python 3"
    },
    "language_info": {
      "name": "python"
    }
  },
  "cells": [
    {
      "cell_type": "markdown",
      "metadata": {
        "id": "view-in-github",
        "colab_type": "text"
      },
      "source": [
        "<a href=\"https://colab.research.google.com/github/JosePajoc/Tareas-IPC2/blob/main/Tarea-3%20Cuaderno.ipynb\" target=\"_parent\"><img src=\"https://colab.research.google.com/assets/colab-badge.svg\" alt=\"Open In Colab\"/></a>"
      ]
    },
    {
      "cell_type": "markdown",
      "metadata": {
        "id": "1RtUZQSdtgTv"
      },
      "source": [
        "##Listas Doblemente Enlazadas\n",
        "**Definición de la clase Estudiante**"
      ]
    },
    {
      "cell_type": "code",
      "metadata": {
        "id": "Y-Kde_xtsPAN"
      },
      "source": [
        "class estudiante():\n",
        "  def __init__(self, carne, nombre, edad, direccion, telefono, email, carrera, puesto):\n",
        "    self.carne = carne\n",
        "    self.nombre = nombre\n",
        "    self.edad = edad\n",
        "    self.direccion = direccion\n",
        "    self.telefono = telefono\n",
        "    self.email = email\n",
        "    self.carrera = carrera\n",
        "    self.puesto = puesto\n"
      ],
      "execution_count": 15,
      "outputs": []
    },
    {
      "cell_type": "markdown",
      "metadata": {
        "id": "JHHmUAJkzqvg"
      },
      "source": [
        "**Definición de la clase Nodo**"
      ]
    },
    {
      "cell_type": "code",
      "metadata": {
        "id": "9gTzlAnXzuRP"
      },
      "source": [
        "class nodo:\n",
        "  def __init__(self, estudiante = None, siguiente = None, anterior = None):\n",
        "    self.estudiante = estudiante\n",
        "    self.siguiente = siguiente\n",
        "    self.anterior = anterior"
      ],
      "execution_count": 16,
      "outputs": []
    },
    {
      "cell_type": "markdown",
      "metadata": {
        "id": "U--KVEhd0RK0"
      },
      "source": [
        "**Definición de la Clase Lista Doblemente Enlazada**"
      ]
    },
    {
      "cell_type": "code",
      "metadata": {
        "id": "X0xDYMmN0Ww2"
      },
      "source": [
        "class lista_doble:\n",
        "  def __init__(self):\n",
        "    self.primero = None\n",
        "  \n",
        "  def insertar(self, estudiante):\n",
        "    if self.primero == None:\n",
        "      self.primero = nodo(estudiante = estudiante)\n",
        "    else:\n",
        "      actual = nodo(estudiante = estudiante, siguiente = self.primero)\n",
        "      self.primero.anterior = actual\n",
        "      self.primero = actual\n",
        "  \n",
        "  def recorrer(self):\n",
        "    if self.primero == None:\n",
        "      return\n",
        "    actual = self.primero\n",
        "    print(\"Carne:\", actual.estudiante.carne, \" Nombre: \", actual.estudiante.nombre, \" Correo: \", actual.estudiante.email)\n",
        "    while actual.siguiente != None:\n",
        "      actual = actual.siguiente\n",
        "      print(\"Carne:\", actual.estudiante.carne, \" Nombre: \", actual.estudiante.nombre, \" Correo: \", actual.estudiante.email)\n",
        "  \n",
        "  def eliminar(self, carne):\n",
        "    actual = self.primero\n",
        "    while actual != None:\n",
        "      if actual.estudiante.carne == carne:\n",
        "        if actual.anterior != None:\n",
        "          if actual.siguiente != None:\n",
        "            actual.anterior.siguiente = actual.siguiente\n",
        "            actual.siguiente.anterior = actual.anterior\n",
        "          else:\n",
        "            actual.anterior.siguiente = None\n",
        "            actual.anterior = None\n",
        "        else:\n",
        "          if actual.siguiente != None:\n",
        "            self.primero = actual.siguiente\n",
        "            actual.siguiente.anterior = None\n",
        "          else:\n",
        "            self.primero = None\n",
        "        return True\n",
        "      else:\n",
        "        actual = actual.siguiente\n",
        "    return False\n",
        "  \n",
        "  def buscar(self, carne):\n",
        "    actual = self.primero\n",
        "\n",
        "    if actual != None:\n",
        "      if actual.estudiante.carne == carne:\n",
        "        print(\"Carne:\", actual.estudiante.carne, \" Nombre: \", actual.estudiante.nombre, \" Correo: \", actual.estudiante.email)\n",
        "      else:\n",
        "        while actual != None and actual.estudiante.carne != carne:\n",
        "          actual = actual.siguiente\n",
        "        if actual != None:\n",
        "          print(\"Carne:\", actual.estudiante.carne, \" Nombre: \", actual.estudiante.nombre, \" Correo: \", actual.estudiante.email)\n",
        "        else:\n",
        "          print(\"El carné no existe...\")"
      ],
      "execution_count": 38,
      "outputs": []
    },
    {
      "cell_type": "markdown",
      "metadata": {
        "id": "8EHHgaBF-GP1"
      },
      "source": [
        "**Creación de objetos estudiantes**"
      ]
    },
    {
      "cell_type": "code",
      "metadata": {
        "id": "TLGOtbU5smZu"
      },
      "source": [
        "e1 = estudiante(2019001, \"Gerson Ortiz\", 20, \"9 calle 10-20 Z 1\", 12345678, \"gerson@correo.com\", \"Ingeniería en Sistemas\", \"algo1\")\n",
        "e2 = estudiante(2019005, \"Karen Hurtarte\", 20, \"5 calle 10-50 Z 5\", 12345678, \"karen@correo.com\", \"Ingeniería Industrial\", \"algo1\")\n",
        "e3 = estudiante(2019010, \"Luis Paz\", 20, \"10 calle 10-10 Z 10\", 12345678, \"luis@correo.com\", \"Ingeniería en Sistemas\", \"algo1\")\n",
        "e4 = estudiante(201115455, \"José Pajoc\", 20, \"Villa Nueva\", 12345678, \"jose@correo.com\", \"Ingeniería en Sistemas\", \"algo100\")"
      ],
      "execution_count": 18,
      "outputs": []
    },
    {
      "cell_type": "markdown",
      "metadata": {
        "id": "w4c5o_he-XO1"
      },
      "source": [
        "**Inserción**"
      ]
    },
    {
      "cell_type": "code",
      "metadata": {
        "id": "J6VoZGaa-LJO"
      },
      "source": [
        "lista_d = lista_doble()\n",
        "lista_d.insertar(e1)\n",
        "lista_d.insertar(e2)\n",
        "lista_d.insertar(e3)\n",
        "lista_d.insertar(e4)"
      ],
      "execution_count": 39,
      "outputs": []
    },
    {
      "cell_type": "markdown",
      "metadata": {
        "id": "ZEjKddu6uFFX"
      },
      "source": [
        "**Recorrer la lista**"
      ]
    },
    {
      "cell_type": "code",
      "metadata": {
        "colab": {
          "base_uri": "https://localhost:8080/"
        },
        "id": "oBgbTj_cuJS3",
        "outputId": "bc34a9fd-9ce1-4b36-c1d5-fa64ea146d55"
      },
      "source": [
        "lista_d.recorrer()"
      ],
      "execution_count": 24,
      "outputs": [
        {
          "output_type": "stream",
          "text": [
            "Carne: 201115455  Nombre:  José Pajoc  Correo:  jose@correo.com\n",
            "Carne: 2019010  Nombre:  Luis Paz  Correo:  luis@correo.com\n",
            "Carne: 2019005  Nombre:  Karen Hurtarte  Correo:  karen@correo.com\n",
            "Carne: 2019001  Nombre:  Gerson Ortiz  Correo:  gerson@correo.com\n"
          ],
          "name": "stdout"
        }
      ]
    },
    {
      "cell_type": "markdown",
      "metadata": {
        "id": "V2ZASzOF7lA6"
      },
      "source": [
        "**Eliminar el nodo del medio de la lista**"
      ]
    },
    {
      "cell_type": "code",
      "metadata": {
        "colab": {
          "base_uri": "https://localhost:8080/"
        },
        "id": "1xduKpel7vVl",
        "outputId": "4a441641-f37d-445e-d1df-a51140201754"
      },
      "source": [
        "lista_d.eliminar(2019005)"
      ],
      "execution_count": 21,
      "outputs": [
        {
          "output_type": "execute_result",
          "data": {
            "text/plain": [
              "True"
            ]
          },
          "metadata": {},
          "execution_count": 21
        }
      ]
    },
    {
      "cell_type": "code",
      "metadata": {
        "colab": {
          "base_uri": "https://localhost:8080/"
        },
        "id": "y82jOkl273KQ",
        "outputId": "d47945f4-318d-40fb-a7ca-3c6bf990b244"
      },
      "source": [
        "lista_d.recorrer()"
      ],
      "execution_count": 22,
      "outputs": [
        {
          "output_type": "stream",
          "text": [
            "Carne: 201115455  Nombre:  José Pajoc  Correo:  jose@correo.com\n",
            "Carne: 2019010  Nombre:  Luis Paz  Correo:  luis@correo.com\n",
            "Carne: 2019001  Nombre:  Gerson Ortiz  Correo:  gerson@correo.com\n"
          ],
          "name": "stdout"
        }
      ]
    },
    {
      "cell_type": "markdown",
      "metadata": {
        "id": "KmZiWi9X8Doi"
      },
      "source": [
        "**Eliminar el nodo primero**"
      ]
    },
    {
      "cell_type": "code",
      "metadata": {
        "colab": {
          "base_uri": "https://localhost:8080/"
        },
        "id": "HjRa3Z608LL5",
        "outputId": "4715a491-4fff-4ac3-8d21-32de4bed7240"
      },
      "source": [
        "lista_d.eliminar(201115455)"
      ],
      "execution_count": 25,
      "outputs": [
        {
          "output_type": "execute_result",
          "data": {
            "text/plain": [
              "True"
            ]
          },
          "metadata": {},
          "execution_count": 25
        }
      ]
    },
    {
      "cell_type": "code",
      "metadata": {
        "colab": {
          "base_uri": "https://localhost:8080/"
        },
        "id": "njYm64qZ8SPR",
        "outputId": "c71bd30f-28b4-46a7-fe22-3242b2000517"
      },
      "source": [
        "lista_d.recorrer()"
      ],
      "execution_count": 26,
      "outputs": [
        {
          "output_type": "stream",
          "text": [
            "Carne: 2019010  Nombre:  Luis Paz  Correo:  luis@correo.com\n",
            "Carne: 2019005  Nombre:  Karen Hurtarte  Correo:  karen@correo.com\n",
            "Carne: 2019001  Nombre:  Gerson Ortiz  Correo:  gerson@correo.com\n"
          ],
          "name": "stdout"
        }
      ]
    },
    {
      "cell_type": "markdown",
      "metadata": {
        "id": "jz6gN1kY8YTL"
      },
      "source": [
        "**Eliminar el último nodo de la lista**"
      ]
    },
    {
      "cell_type": "code",
      "metadata": {
        "colab": {
          "base_uri": "https://localhost:8080/"
        },
        "id": "Zelxjith8bgu",
        "outputId": "23c2e3b5-2807-42b8-d1fb-e71d4b5fe8af"
      },
      "source": [
        "lista_d.eliminar(2019001)"
      ],
      "execution_count": 28,
      "outputs": [
        {
          "output_type": "execute_result",
          "data": {
            "text/plain": [
              "True"
            ]
          },
          "metadata": {},
          "execution_count": 28
        }
      ]
    },
    {
      "cell_type": "code",
      "metadata": {
        "colab": {
          "base_uri": "https://localhost:8080/"
        },
        "id": "rVqF86e48jZ-",
        "outputId": "732629db-75d4-4373-9204-21d30b532975"
      },
      "source": [
        "lista_d.recorrer()"
      ],
      "execution_count": 29,
      "outputs": [
        {
          "output_type": "stream",
          "text": [
            "Carne: 201115455  Nombre:  José Pajoc  Correo:  jose@correo.com\n",
            "Carne: 2019010  Nombre:  Luis Paz  Correo:  luis@correo.com\n",
            "Carne: 2019005  Nombre:  Karen Hurtarte  Correo:  karen@correo.com\n"
          ],
          "name": "stdout"
        }
      ]
    },
    {
      "cell_type": "markdown",
      "metadata": {
        "id": "df-rY9iR80so"
      },
      "source": [
        "**Eliminar nodo a nodo de la lista**"
      ]
    },
    {
      "cell_type": "code",
      "metadata": {
        "colab": {
          "base_uri": "https://localhost:8080/"
        },
        "id": "a3oHeb3o86w3",
        "outputId": "50e6854e-9756-418b-b352-4345cfe7b626"
      },
      "source": [
        "lista_d.eliminar(201115455)\n",
        "lista_d.eliminar(2019010)\n",
        "lista_d.eliminar(2019005)\n",
        "lista_d.eliminar(2019001)\n",
        "\n"
      ],
      "execution_count": 31,
      "outputs": [
        {
          "output_type": "execute_result",
          "data": {
            "text/plain": [
              "True"
            ]
          },
          "metadata": {},
          "execution_count": 31
        }
      ]
    },
    {
      "cell_type": "code",
      "metadata": {
        "id": "u-UOfWwK9UTr"
      },
      "source": [
        "lista_d.recorrer()"
      ],
      "execution_count": 32,
      "outputs": []
    },
    {
      "cell_type": "markdown",
      "metadata": {
        "id": "squDn37lD8Vp"
      },
      "source": [
        "**Buscar nodo**"
      ]
    },
    {
      "cell_type": "code",
      "metadata": {
        "colab": {
          "base_uri": "https://localhost:8080/"
        },
        "id": "bpA-ggohD_fY",
        "outputId": "d7d9c752-0753-44e6-8359-d08a272e3467"
      },
      "source": [
        "lista_d.buscar(201115455)"
      ],
      "execution_count": 46,
      "outputs": [
        {
          "output_type": "stream",
          "text": [
            "Carne: 201115455  Nombre:  José Pajoc  Correo:  jose@correo.com\n"
          ],
          "name": "stdout"
        }
      ]
    }
  ]
}